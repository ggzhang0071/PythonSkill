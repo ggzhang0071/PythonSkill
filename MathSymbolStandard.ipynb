{
 "cells": [
  {
   "cell_type": "markdown",
   "metadata": {},
   "source": [
    "# 常用数学符号表示\n",
    "\n",
    "http://mohu.org/info/symbols/symbols.htm"
   ]
  },
  {
   "cell_type": "markdown",
   "metadata": {},
   "source": [
    "矩阵用 大写字母整体 比如：$\\bf{W}$\n",
    "\n",
    "向量用小写 比如：$v$"
   ]
  },
  {
   "cell_type": "markdown",
   "metadata": {},
   "source": [
    "下标变量用斜体，文字也用斜体  如: ${\\bf{W}}_i$, ${\\bf{W}}_{out}$ "
   ]
  },
  {
   "cell_type": "markdown",
   "metadata": {},
   "source": [
    "实数集合 $\\mathbb{W}$"
   ]
  },
  {
   "cell_type": "markdown",
   "metadata": {},
   "source": [
    "## 数学符号表"
   ]
  },
  {
   "cell_type": "markdown",
   "metadata": {},
   "source": [
    "不等于 $\\neq$, \n",
    "\n",
    "小于等于 $\\leq$\n",
    "\n",
    "远大于 $\\ll$"
   ]
  },
  {
   "cell_type": "code",
   "execution_count": null,
   "metadata": {},
   "outputs": [],
   "source": []
  },
  {
   "cell_type": "code",
   "execution_count": null,
   "metadata": {},
   "outputs": [],
   "source": []
  },
  {
   "cell_type": "code",
   "execution_count": null,
   "metadata": {},
   "outputs": [],
   "source": []
  },
  {
   "cell_type": "code",
   "execution_count": null,
   "metadata": {},
   "outputs": [],
   "source": []
  }
 ],
 "metadata": {
  "kernelspec": {
   "display_name": "Python 3",
   "language": "python",
   "name": "python3"
  },
  "language_info": {
   "codemirror_mode": {
    "name": "ipython",
    "version": 3
   },
   "file_extension": ".py",
   "mimetype": "text/x-python",
   "name": "python",
   "nbconvert_exporter": "python",
   "pygments_lexer": "ipython3",
   "version": "3.6.5"
  }
 },
 "nbformat": 4,
 "nbformat_minor": 2
}
