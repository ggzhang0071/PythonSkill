{
 "cells": [
  {
   "cell_type": "markdown",
   "metadata": {},
   "source": [
    "# Arima¶\n",
    "https://www.cnblogs.com/bradleon/p/6827109.html\n",
    "\n"
   ]
  },
  {
   "cell_type": "markdown",
   "metadata": {},
   "source": [
    "ARIMA 表示为：\n",
    "$\\hat y_t = \\mu +\\phi_1 *y_{y_1}+,...,+\\phi_p *y_{y_p}+\\theta_1*e_{t-1}+,...,\\theta_q*e_{t-q}$,\n",
    "\n",
    "\n",
    "其中 phi 是 AR的参数，theta 是 MA的参数\n",
    "\n",
    "这里的d 在哪\n",
    "\n",
    "ARIMA 包括 差分的阶数，和 \n",
    "\n",
    "Arima 是对非周期性的信号"
   ]
  }
 ],
 "metadata": {
  "kernelspec": {
   "display_name": "Python 3",
   "language": "python",
   "name": "python3"
  },
  "language_info": {
   "codemirror_mode": {
    "name": "ipython",
    "version": 3
   },
   "file_extension": ".py",
   "mimetype": "text/x-python",
   "name": "python",
   "nbconvert_exporter": "python",
   "pygments_lexer": "ipython3",
   "version": "3.6.5"
  }
 },
 "nbformat": 4,
 "nbformat_minor": 2
}
