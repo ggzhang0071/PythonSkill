{
 "cells": [
  {
   "cell_type": "markdown",
   "metadata": {},
   "source": [
    "博弈论"
   ]
  },
  {
   "cell_type": "markdown",
   "metadata": {},
   "source": [
    "博弈论\n",
    "********\n",
    "\n",
    "合作博弈  讲究的是 合作，效率公正 和公平\n",
    "\n",
    "非合作博弈\n",
    "\n",
    "静态博弈 动态博弈\n",
    "\n",
    "完全信息博弈  和非完全信息博弈\n",
    "\n",
    "不完整信息博弈\n",
    "\n",
    "\n",
    "非完美博弈\n",
    "\n",
    "\n",
    "http://open.163.com/movie/2016/7/A/I/MBR31E8RH_MBR31KRAI.html\n",
    "\n",
    "\n",
    "纳什均衡 就是利益达到最大\n",
    "\n",
    "合作博弈\n",
    "\n",
    "反复博弈中，还是建议选择善良\n",
    "\n"
   ]
  },
  {
   "cell_type": "markdown",
   "metadata": {},
   "source": [
    "Replicator Dynamics"
   ]
  },
  {
   "cell_type": "markdown",
   "metadata": {},
   "source": [
    "$\\rho_{ij}^p(\\pi^p,x^p)=\\frac{1}{m^p}[\\pi_j^p-\\pi_i^p]_+$\n"
   ]
  },
  {
   "cell_type": "markdown",
   "metadata": {},
   "source": [
    "这里是计算的策略，是可以改变的地方"
   ]
  },
  {
   "cell_type": "markdown",
   "metadata": {},
   "source": [
    " 是改变的速率 $[\\dot]_+$ 是代表正部分，定义为 $[\\dot]_+=max\\{0,x\\}$ ,这样导致 replicator dynamics 定义为："
   ]
  },
  {
   "cell_type": "markdown",
   "metadata": {},
   "source": [
    "$ \\dot x_i^p=x_i^p \\hat F_i^p(x)$"
   ]
  },
  {
   "cell_type": "markdown",
   "metadata": {},
   "source": [
    "这里是根据得失建立的函数。根据损失函数改变。 $\\hat F_i^p$ is the excess payoff to stragegy $i \\in S^p$,defined as\n"
   ]
  },
  {
   "cell_type": "markdown",
   "metadata": {},
   "source": [
    "$\\hat F_i^p(x)=F_i^p(x)-\\bar F^p(x)$"
   ]
  },
  {
   "cell_type": "markdown",
   "metadata": {},
   "source": [
    "$\\bar F_i^p(x)$  is p 个人的平均付出函数 "
   ]
  },
  {
   "cell_type": "markdown",
   "metadata": {},
   "source": [
    "$\\hat F_i^p(x)=\\frac{1}{m^p}\\sum_{j\\in S^p}x_j^p F_j^p(x)$"
   ]
  },
  {
   "cell_type": "markdown",
   "metadata": {},
   "source": [
    "(Brown-von Neumann-Nash Dynamics (BNN))"
   ]
  },
  {
   "cell_type": "markdown",
   "metadata": {},
   "source": [
    "每个人调整策略根据自己平均的收益"
   ]
  },
  {
   "cell_type": "markdown",
   "metadata": {},
   "source": [
    "$\\rho_{ij}^p(\\pi^p|x^p)=[\\pi_j^p-\\frac{1}{m^p}\\sum_{j\\in S^p}x_j^p F_j^p(x)]$"
   ]
  },
  {
   "cell_type": "code",
   "execution_count": 34,
   "metadata": {},
   "outputs": [],
   "source": [
    "from sympy.abc import x,n,m\n",
    "from sympy import Function"
   ]
  },
  {
   "cell_type": "code",
   "execution_count": 35,
   "metadata": {},
   "outputs": [
    {
     "ename": "SyntaxError",
     "evalue": "invalid syntax (<ipython-input-35-a536dd85139c>, line 1)",
     "output_type": "error",
     "traceback": [
      "\u001b[1;36m  File \u001b[1;32m\"<ipython-input-35-a536dd85139c>\"\u001b[1;36m, line \u001b[1;32m1\u001b[0m\n\u001b[1;33m    Logit choice\u001b[0m\n\u001b[1;37m               ^\u001b[0m\n\u001b[1;31mSyntaxError\u001b[0m\u001b[1;31m:\u001b[0m invalid syntax\n"
     ]
    }
   ],
   "source": [
    "Logit choice"
   ]
  },
  {
   "cell_type": "code",
   "execution_count": 36,
   "metadata": {},
   "outputs": [],
   "source": [
    "x_nm=Function('x')(n)"
   ]
  },
  {
   "cell_type": "markdown",
   "metadata": {},
   "source": [
    "这要在怎样计算自己损失，以及怎样采取行动，如果是以牙还牙，就是你行动，我对你施加更大的惩罚。"
   ]
  },
  {
   "cell_type": "markdown",
   "metadata": {},
   "source": [
    "x denote the one population with three strategies,the fitness is defined as F(x)=Ax,where \n"
   ]
  },
  {
   "cell_type": "code",
   "execution_count": 38,
   "metadata": {},
   "outputs": [
    {
     "ename": "SyntaxError",
     "evalue": "invalid syntax (<ipython-input-38-d8270b3faa4b>, line 1)",
     "output_type": "error",
     "traceback": [
      "\u001b[1;36m  File \u001b[1;32m\"<ipython-input-38-d8270b3faa4b>\"\u001b[1;36m, line \u001b[1;32m1\u001b[0m\n\u001b[1;33m    这里 选择的A 代表什么意思？\u001b[0m\n\u001b[1;37m          ^\u001b[0m\n\u001b[1;31mSyntaxError\u001b[0m\u001b[1;31m:\u001b[0m invalid syntax\n"
     ]
    }
   ],
   "source": [
    "这里 选择的A 代表什么意思？"
   ]
  },
  {
   "cell_type": "code",
   "execution_count": null,
   "metadata": {},
   "outputs": [],
   "source": []
  },
  {
   "cell_type": "code",
   "execution_count": null,
   "metadata": {},
   "outputs": [],
   "source": []
  },
  {
   "cell_type": "code",
   "execution_count": null,
   "metadata": {},
   "outputs": [],
   "source": []
  },
  {
   "cell_type": "code",
   "execution_count": null,
   "metadata": {},
   "outputs": [],
   "source": []
  }
 ],
 "metadata": {
  "kernelspec": {
   "display_name": "Python 3",
   "language": "python",
   "name": "python3"
  },
  "language_info": {
   "codemirror_mode": {
    "name": "ipython",
    "version": 3
   },
   "file_extension": ".py",
   "mimetype": "text/x-python",
   "name": "python",
   "nbconvert_exporter": "python",
   "pygments_lexer": "ipython3",
   "version": "3.6.4"
  }
 },
 "nbformat": 4,
 "nbformat_minor": 2
}
