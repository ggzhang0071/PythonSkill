{
 "cells": [
  {
   "cell_type": "markdown",
   "metadata": {},
   "source": [
    "# 动态规划\n",
    "https://books.google.com/books?id=rUBTBQAAQBAJ&dq=\"A%20Markov%20decision%20process%20is%20characterized%20by%20two%20sets%20of%20parameters\"&pg=PA39&v=onepage&source=ttb#v=onepage&q=\"A%20Markov%20decision%20process%20is%20characterized%20by%20two%20sets%20of%20parameters\"&f=false"
   ]
  },
  {
   "cell_type": "markdown",
   "metadata": {},
   "source": [
    "动态规划是把一个复杂问题拆解成一个个小问题，dp 问题的初始是 bell man 优化问题，它主要关心 多个状态的相互决策， 无论初始状态是什么样的？ MDP 是 markov decsion processes "
   ]
  },
  {
   "cell_type": "code",
   "execution_count": 2,
   "metadata": {},
   "outputs": [],
   "source": [
    "from sympy import init_printing\n",
    "init_printing()"
   ]
  },
  {
   "cell_type": "markdown",
   "metadata": {},
   "source": [
    "$P_{ij}^k(n)= P(state_j,stage_{n+1}|state_i,stage_n,decision_k)$"
   ]
  },
  {
   "cell_type": "markdown",
   "metadata": {},
   "source": [
    "当前的行为依赖于当前和以前的状态"
   ]
  },
  {
   "cell_type": "markdown",
   "metadata": {},
   "source": [
    "定义 F(n,j)为 状态n he i的最优决策，$R_i^k(n)$ 是 回报。，最优决策可以定义为："
   ]
  },
  {
   "cell_type": "markdown",
   "metadata": {},
   "source": [
    "$F(n,j)=\\max_x\\{R_i^k(k)+\\sum_jp_{ij}^k(n)F(n+1,j)\\}$"
   ]
  },
  {
   "cell_type": "markdown",
   "metadata": {},
   "source": [
    "当 n=N, 在状态i的整体 reward 是:\n",
    "   \n",
    "   $F(n,i)=\\max_kR_ik^k(n)$"
   ]
  }
 ],
 "metadata": {
  "kernelspec": {
   "display_name": "Python 3",
   "language": "python",
   "name": "python3"
  },
  "language_info": {
   "codemirror_mode": {
    "name": "ipython",
    "version": 3
   },
   "file_extension": ".py",
   "mimetype": "text/x-python",
   "name": "python",
   "nbconvert_exporter": "python",
   "pygments_lexer": "ipython3",
   "version": "3.6.5"
  }
 },
 "nbformat": 4,
 "nbformat_minor": 2
}
